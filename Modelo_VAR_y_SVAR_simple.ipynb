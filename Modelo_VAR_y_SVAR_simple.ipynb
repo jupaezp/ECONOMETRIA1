{
  "nbformat": 4,
  "nbformat_minor": 0,
  "metadata": {
    "colab": {
      "provenance": [],
      "include_colab_link": true
    },
    "kernelspec": {
      "name": "python3",
      "display_name": "Python 3"
    },
    "language_info": {
      "name": "python"
    }
  },
  "cells": [
    {
      "cell_type": "markdown",
      "metadata": {
        "id": "view-in-github",
        "colab_type": "text"
      },
      "source": [
        "<a href=\"https://colab.research.google.com/github/jupaezp/ECONOMETRIA1/blob/main/Modelo_VAR_y_SVAR_simple.ipynb\" target=\"_parent\"><img src=\"https://colab.research.google.com/assets/colab-badge.svg\" alt=\"Open In Colab\"/></a>"
      ]
    },
    {
      "cell_type": "code",
      "source": [
        "import pandas as pd                 # Importar Pandas para trabajar con los datos\n",
        "from statsmodels.tsa.vector_ar.var_model import VAR   # Importar el modelo VAR de statsmodels\n",
        "\n",
        "# Cargar los datos de ejemplo\n",
        "url = 'https://raw.githubusercontent.com/jbrownlee/Datasets/master/airline-passengers.csv'  # Definir la URL de los datos\n",
        "df = pd.read_csv(url, header=0, index_col=0, parse_dates=True, squeeze=True)   # Cargar los datos utilizando Pandas\n",
        "\n",
        "# Preparar los datos para el modelo VAR\n",
        "data = pd.concat([df.shift(1), df], axis=1)   # Desplazar los datos hacia abajo para que cada fila contenga el valor de \"pax\" en el período anterior y el valor actual\n",
        "data.columns = ['pax(t-1)', 'pax(t)']         # Renombrar las columnas para que sean más descriptivas\n",
        "data.dropna(inplace=True)                    # Eliminar las filas que contienen valores faltantes debido al desplazamiento\n",
        "\n",
        "# Ajustar el modelo VAR con un retraso de 2 periodos\n",
        "model = VAR(data)                            # Crear una instancia de la clase VAR con los datos preparados\n",
        "results = model.fit(2)                       # Ajustar el modelo con un retraso de 2 periodos\n",
        "\n",
        "# Hacer una predicción para los próximos 5 periodos\n",
        "forecast = results.forecast(results.endog, steps=5)   # Realizar una predicción para los próximos 5 periodos basados en los datos de entrenamiento\n",
        "\n",
        "print(forecast)   # Imprimir la predicción\n"
      ],
      "metadata": {
        "colab": {
          "base_uri": "https://localhost:8080/"
        },
        "id": "E7LEO8EVM6U3",
        "outputId": "b9252f99-b1a7-4043-ce81-1c5cc3f1c601"
      },
      "execution_count": 1,
      "outputs": [
        {
          "output_type": "stream",
          "name": "stderr",
          "text": [
            "<ipython-input-1-5997c278d3f1>:6: FutureWarning: The squeeze argument has been deprecated and will be removed in a future version. Append .squeeze(\"columns\") to the call to squeeze.\n",
            "\n",
            "\n",
            "  df = pd.read_csv(url, header=0, index_col=0, parse_dates=True, squeeze=True)   # Cargar los datos utilizando Pandas\n"
          ]
        },
        {
          "output_type": "stream",
          "name": "stdout",
          "text": [
            "[[432.         458.29881774]\n",
            " [458.29881774 454.5687222 ]\n",
            " [454.5687222  442.45161331]\n",
            " [442.45161331 433.63036255]\n",
            " [433.63036255 428.15588256]]\n"
          ]
        },
        {
          "output_type": "stream",
          "name": "stderr",
          "text": [
            "/usr/local/lib/python3.10/dist-packages/statsmodels/tsa/base/tsa_model.py:471: ValueWarning: No frequency information was provided, so inferred frequency MS will be used.\n",
            "  self._init_dates(dates, freq)\n"
          ]
        }
      ]
    },
    {
      "cell_type": "markdown",
      "source": [
        "En detalle:\n",
        "\n",
        "Primero, se importa la biblioteca Pandas y el modelo VAR de statsmodels.\n",
        "Luego, se define la URL de los datos y se carga el conjunto de datos de pasajeros aéreos utilizando la función read_csv() de Pandas. Los datos se cargan en un objeto Pandas DataFrame.\n",
        "Después de cargar los datos, se preparan para el modelo VAR. En este caso, se desplazan hacia abajo para que cada fila contenga el valor de \"pax\" en el período anterior y el valor actual. Esto se hace utilizando la función shift() de Pandas y la función concat() para unir las dos columnas de datos. Las columnas se renombran para que sean más descriptivas, y las filas que contienen valores faltantes debido al desplazamiento se eliminan utilizando la función dropna().\n",
        "A continuación, se crea una instancia de la clase VAR utilizando los datos preparados, y el modelo se ajusta utilizando la función fit() con un retraso de 2 periodos. Esto significa que el modelo utilizará los valores de \"pax\" de los dos períodos anteriores para hacer la predicción del próximo período.\n",
        "Finalmente, se utiliza la función forecast() del objeto de resultados del modelo VAR para hacer una predicción para los próximos 5 periodos basados en los datos de entrenamiento. La predicción se almacena en la variable forecast y se imprime en la pantalla utilizando la función print()."
      ],
      "metadata": {
        "id": "aH4ZnH8kOe-l"
      }
    },
    {
      "cell_type": "markdown",
      "source": [
        "## VAR estructural "
      ],
      "metadata": {
        "id": "XbWHn8nDOal8"
      }
    },
    {
      "cell_type": "code",
      "execution_count": 2,
      "metadata": {
        "id": "Djdj3653A-jg"
      },
      "outputs": [],
      "source": [
        "import numpy as np\n",
        "import pandas as pd\n",
        "import statsmodels.api as sm\n"
      ]
    },
    {
      "cell_type": "code",
      "source": [
        "# Cargar los datos\n",
        "data = sm.datasets.macrodata.load_pandas()\n",
        "df = data.data"
      ],
      "metadata": {
        "id": "rgGeLInGBH40"
      },
      "execution_count": 10,
      "outputs": []
    },
    {
      "cell_type": "code",
      "source": [
        "# Seleccionar las variables de interés\n",
        "variables = ['realgdp', 'realcons', 'realinv']\n",
        "\n",
        "# Crear el modelo SVAR\n",
        "model = sm.tsa.VAR(df[variables])"
      ],
      "metadata": {
        "id": "ef1ZnEgYBJTT"
      },
      "execution_count": 4,
      "outputs": []
    },
    {
      "cell_type": "code",
      "source": [
        "# Ajustar el modelo\n",
        "results = model.fit(maxlags=2, ic='aic')\n",
        "\n",
        "# Ver los resultados\n",
        "results.summary()"
      ],
      "metadata": {
        "colab": {
          "base_uri": "https://localhost:8080/"
        },
        "id": "p9tPkemgBMTA",
        "outputId": "c379f1af-5901-4408-cd93-e9a780965406"
      },
      "execution_count": 5,
      "outputs": [
        {
          "output_type": "execute_result",
          "data": {
            "text/plain": [
              "  Summary of Regression Results   \n",
              "==================================\n",
              "Model:                         VAR\n",
              "Method:                        OLS\n",
              "Date:           Wed, 10, May, 2023\n",
              "Time:                     22:45:34\n",
              "--------------------------------------------------------------------\n",
              "No. of Equations:         3.00000    BIC:                    20.3676\n",
              "Nobs:                     201.000    HQIC:                   20.1621\n",
              "Log likelihood:          -2846.88    FPE:                4.96244e+08\n",
              "AIC:                      20.0225    Det(Omega_mle):     4.47809e+08\n",
              "--------------------------------------------------------------------\n",
              "Results for equation realgdp\n",
              "==============================================================================\n",
              "                 coefficient       std. error           t-stat            prob\n",
              "------------------------------------------------------------------------------\n",
              "const              24.839339        18.300864            1.357           0.175\n",
              "L1.realgdp          0.491262         0.151347            3.246           0.001\n",
              "L1.realcons         1.494143         0.178426            8.374           0.000\n",
              "L1.realinv          0.654032         0.157738            4.146           0.000\n",
              "L2.realgdp          0.461341         0.147176            3.135           0.002\n",
              "L2.realcons        -1.409239         0.169909           -8.294           0.000\n",
              "L2.realinv         -0.727495         0.163797           -4.441           0.000\n",
              "==============================================================================\n",
              "\n",
              "Results for equation realcons\n",
              "==============================================================================\n",
              "                 coefficient       std. error           t-stat            prob\n",
              "------------------------------------------------------------------------------\n",
              "const               6.227429        10.868462            0.573           0.567\n",
              "L1.realgdp         -0.261425         0.089882           -2.909           0.004\n",
              "L1.realcons         1.532753         0.105963           14.465           0.000\n",
              "L1.realinv          0.414808         0.093677            4.428           0.000\n",
              "L2.realgdp          0.272378         0.087404            3.116           0.002\n",
              "L2.realcons        -0.546518         0.100905           -5.416           0.000\n",
              "L2.realinv         -0.405336         0.097275           -4.167           0.000\n",
              "==============================================================================\n",
              "\n",
              "Results for equation realinv\n",
              "==============================================================================\n",
              "                 coefficient       std. error           t-stat            prob\n",
              "------------------------------------------------------------------------------\n",
              "const              -4.992331        12.996408           -0.384           0.701\n",
              "L1.realgdp         -0.227046         0.107480           -2.112           0.035\n",
              "L1.realcons         1.086304         0.126710            8.573           0.000\n",
              "L1.realinv          1.351368         0.112018           12.064           0.000\n",
              "L2.realgdp          0.200263         0.104517            1.916           0.055\n",
              "L2.realcons        -1.031238         0.120661           -8.547           0.000\n",
              "L2.realinv         -0.442166         0.116321           -3.801           0.000\n",
              "==============================================================================\n",
              "\n",
              "Correlation matrix of residuals\n",
              "             realgdp  realcons   realinv\n",
              "realgdp     1.000000  0.561036  0.692816\n",
              "realcons    0.561036  1.000000  0.023136\n",
              "realinv     0.692816  0.023136  1.000000\n",
              "\n"
            ]
          },
          "metadata": {},
          "execution_count": 5
        }
      ]
    },
    {
      "cell_type": "markdown",
      "source": [
        "En este ejemplo, estamos cargando datos de la economía estadounidense utilizando la biblioteca statsmodels y seleccionando tres variables de interés: el producto interno bruto real (realgdp), el consumo real (realcons) y la inversión real (realinv). A continuación, creamos nuestro modelo SVAR utilizando el método VAR de statsmodels y ajustamos el modelo utilizando el método fit. Finalmente, imprimimos los resultados utilizando el método summary."
      ],
      "metadata": {
        "id": "oSGFCsOrBSvD"
      }
    },
    {
      "cell_type": "markdown",
      "source": [
        "Primero, el resumen general del modelo (que se muestra al llamar al método summary() del objeto results) proporciona información sobre el número de observaciones, variables y retardos utilizados en el modelo. También se incluyen estadísticas como el criterio de información de Akaike (AIC) y el criterio de información bayesiano (BIC), que pueden ser útiles para comparar diferentes modelos.\n",
        "\n",
        "En la sección \"matriz de coeficientes\", se muestran los coeficientes estimados para cada una de las variables incluidas en el modelo, así como su error estándar y un intervalo de confianza al 95%. Estos coeficientes pueden ser interpretados como la relación entre cada variable y las otras variables en el modelo, después de controlar por los efectos de las variables pasadas.\n",
        "\n",
        "La sección \"diagnóstico de residuos\" proporciona información sobre la calidad del ajuste del modelo. Aquí se muestran estadísticas como el estadístico de Ljung-Box (que prueba la hipótesis de que los residuos del modelo no son autocorrelacionados) y el estadístico de Jarque-Bera (que prueba la hipótesis de que los residuos siguen una distribución normal). Si estos estadísticos son significativos, puede indicar que el modelo no se ajusta bien a los datos.\n",
        "\n",
        "En general, la interpretación de los resultados de un modelo SVAR dependerá de las variables y datos específicos utilizados en el modelo. Es importante tener en cuenta que un modelo SVAR es solo una herramienta para analizar las relaciones entre las variables económicas, y que siempre deben ser interpretados en conjunto con un conocimiento más amplio del contexto económico y las teorías subyacentes."
      ],
      "metadata": {
        "id": "sR7VBgLpBf9L"
      }
    },
    {
      "cell_type": "markdown",
      "source": [
        "## DATOS DEL BANCO MUNDIAL"
      ],
      "metadata": {
        "id": "aHr59YBWCWCs"
      }
    },
    {
      "cell_type": "code",
      "source": [
        "pip install pandas-datareader"
      ],
      "metadata": {
        "colab": {
          "base_uri": "https://localhost:8080/"
        },
        "id": "r5DMqONRCZSr",
        "outputId": "51fc1bfe-cdb2-4c1b-bff2-959d2fc65d67"
      },
      "execution_count": 8,
      "outputs": [
        {
          "output_type": "stream",
          "name": "stdout",
          "text": [
            "Looking in indexes: https://pypi.org/simple, https://us-python.pkg.dev/colab-wheels/public/simple/\n",
            "Requirement already satisfied: pandas-datareader in /usr/local/lib/python3.10/dist-packages (0.10.0)\n",
            "Requirement already satisfied: lxml in /usr/local/lib/python3.10/dist-packages (from pandas-datareader) (4.9.2)\n",
            "Requirement already satisfied: pandas>=0.23 in /usr/local/lib/python3.10/dist-packages (from pandas-datareader) (1.5.3)\n",
            "Requirement already satisfied: requests>=2.19.0 in /usr/local/lib/python3.10/dist-packages (from pandas-datareader) (2.27.1)\n",
            "Requirement already satisfied: python-dateutil>=2.8.1 in /usr/local/lib/python3.10/dist-packages (from pandas>=0.23->pandas-datareader) (2.8.2)\n",
            "Requirement already satisfied: pytz>=2020.1 in /usr/local/lib/python3.10/dist-packages (from pandas>=0.23->pandas-datareader) (2022.7.1)\n",
            "Requirement already satisfied: numpy>=1.21.0 in /usr/local/lib/python3.10/dist-packages (from pandas>=0.23->pandas-datareader) (1.22.4)\n",
            "Requirement already satisfied: urllib3<1.27,>=1.21.1 in /usr/local/lib/python3.10/dist-packages (from requests>=2.19.0->pandas-datareader) (1.26.15)\n",
            "Requirement already satisfied: certifi>=2017.4.17 in /usr/local/lib/python3.10/dist-packages (from requests>=2.19.0->pandas-datareader) (2022.12.7)\n",
            "Requirement already satisfied: charset-normalizer~=2.0.0 in /usr/local/lib/python3.10/dist-packages (from requests>=2.19.0->pandas-datareader) (2.0.12)\n",
            "Requirement already satisfied: idna<4,>=2.5 in /usr/local/lib/python3.10/dist-packages (from requests>=2.19.0->pandas-datareader) (3.4)\n",
            "Requirement already satisfied: six>=1.5 in /usr/local/lib/python3.10/dist-packages (from python-dateutil>=2.8.1->pandas>=0.23->pandas-datareader) (1.16.0)\n"
          ]
        }
      ]
    },
    {
      "cell_type": "markdown",
      "source": [
        "Primero, importamos las bibliotecas necesarias para trabajar con datos del Banco Mundial y ajustar un modelo SVAR. pandas_datareader se utiliza para cargar los datos del Banco Mundial, pandas y numpy se utilizan para trabajar con los datos, y statsmodels se utiliza para ajustar el modelo SVAR."
      ],
      "metadata": {
        "id": "g_-tjHw-CfsO"
      }
    },
    {
      "cell_type": "code",
      "source": [
        "# Importar las bibliotecas necesarias\n",
        "import pandas_datareader as pdr\n",
        "import pandas as pd\n",
        "import numpy as np\n",
        "import statsmodels.api as sm"
      ],
      "metadata": {
        "id": "iFl5dZjkChkB"
      },
      "execution_count": 9,
      "outputs": []
    },
    {
      "cell_type": "markdown",
      "source": [
        "Aquí definimos las variables de interés para nuestro modelo. En este ejemplo, estamos interesados en la población total (SP.POP.TOTL), el PIB (NY.GDP.MKTP.CD) y el ingreso nacional bruto per cápita (NY.GNP.PCAP.CD). Estas variables se identifican utilizando los códigos de indicadores del Banco Mundial."
      ],
      "metadata": {
        "id": "YZsga8HfCjjE"
      }
    },
    {
      "cell_type": "code",
      "source": [
        "pip install wbdata"
      ],
      "metadata": {
        "colab": {
          "base_uri": "https://localhost:8080/"
        },
        "id": "shXMot6SDT2Y",
        "outputId": "4aca73ee-50b8-478a-ba34-5f3bd3344bf8"
      },
      "execution_count": null,
      "outputs": [
        {
          "output_type": "stream",
          "name": "stdout",
          "text": [
            "Looking in indexes: https://pypi.org/simple, https://us-python.pkg.dev/colab-wheels/public/simple/\n",
            "Collecting wbdata\n",
            "  Downloading wbdata-0.3.0-py3-none-any.whl (14 kB)\n",
            "Requirement already satisfied: appdirs<2.0,>=1.4 in /usr/local/lib/python3.9/dist-packages (from wbdata) (1.4.4)\n",
            "Requirement already satisfied: decorator>=4.0 in /usr/local/lib/python3.9/dist-packages (from wbdata) (4.4.2)\n",
            "Requirement already satisfied: tabulate>=0.8.5 in /usr/local/lib/python3.9/dist-packages (from wbdata) (0.8.10)\n",
            "Requirement already satisfied: requests>=2.0 in /usr/local/lib/python3.9/dist-packages (from wbdata) (2.27.1)\n",
            "Requirement already satisfied: idna<4,>=2.5 in /usr/local/lib/python3.9/dist-packages (from requests>=2.0->wbdata) (3.4)\n",
            "Requirement already satisfied: urllib3<1.27,>=1.21.1 in /usr/local/lib/python3.9/dist-packages (from requests>=2.0->wbdata) (1.26.15)\n",
            "Requirement already satisfied: certifi>=2017.4.17 in /usr/local/lib/python3.9/dist-packages (from requests>=2.0->wbdata) (2022.12.7)\n",
            "Requirement already satisfied: charset-normalizer~=2.0.0 in /usr/local/lib/python3.9/dist-packages (from requests>=2.0->wbdata) (2.0.12)\n",
            "Installing collected packages: wbdata\n",
            "Successfully installed wbdata-0.3.0\n"
          ]
        }
      ]
    },
    {
      "cell_type": "code",
      "source": [
        "# Importar las bibliotecas necesarias\n",
        "import wbdata #obtiene los datos del banco mundial \n",
        "import pandas as pd\n",
        "import numpy as np\n",
        "import statsmodels.api as sm\n",
        "\n",
        "# Definir las variables de interés\n",
        "variables = {'SP.POP.TOTL': 'population', 'NY.GDP.MKTP.CD': 'gdp', 'NY.GNP.PCAP.CD': 'gni_per_capita',}\n",
        "\n",
        "# Especificar las fechas de interés\n",
        "start_date = pd.to_datetime('2010-01-01')\n",
        "end_date = pd.to_datetime('2020-12-31')\n",
        "data_date = (start_date, end_date)\n",
        "\n",
        "# Cargar los datos del Banco Mundial\n",
        "data = wbdata.get_dataframe(variables, country='all', data_date=data_date)\n",
        "\n",
        "# Seleccionar los datos para un país específico (por ejemplo, México)\n",
        "#df = data[data['country'] == 'Zimbabwe']\n",
        "\n",
        "# Crear el modelo SVAR\n",
        "#model = sm.tsa.VAR(df)\n",
        "\n",
        "# Ajustar el modelo\n",
        "#results = model.fit(maxlags=2, ic='aic')\n",
        "\n",
        "# Ver los resultados\n",
        "#results.summary()\n",
        "\n"
      ],
      "metadata": {
        "id": "I1Mv-a2FCoSQ"
      },
      "execution_count": null,
      "outputs": []
    },
    {
      "cell_type": "code",
      "source": [
        "data\n",
        "data2 = data.reset_index()\n",
        "data2.head()\n",
        "data2"
      ],
      "metadata": {
        "id": "mTaCZLBJCsGc",
        "colab": {
          "base_uri": "https://localhost:8080/",
          "height": 424
        },
        "outputId": "d0563fd0-3ece-4b2f-fd14-c48b03d1ed1d"
      },
      "execution_count": null,
      "outputs": [
        {
          "output_type": "execute_result",
          "data": {
            "text/plain": [
              "                          country  date   population           gdp  \\\n",
              "0     Africa Eastern and Southern  2020  685112705.0  9.341791e+11   \n",
              "1     Africa Eastern and Southern  2019  667242712.0  1.009052e+12   \n",
              "2     Africa Eastern and Southern  2018  649756874.0  1.016697e+12   \n",
              "3     Africa Eastern and Southern  2017  632746296.0  1.030482e+12   \n",
              "4     Africa Eastern and Southern  2016  616377331.0  8.898593e+11   \n",
              "...                           ...   ...          ...           ...   \n",
              "2921                     Zimbabwe  2014   13855753.0  1.949552e+10   \n",
              "2922                     Zimbabwe  2013   13555422.0  1.909102e+10   \n",
              "2923                     Zimbabwe  2012   13265331.0  1.711485e+10   \n",
              "2924                     Zimbabwe  2011   13025785.0  1.410192e+10   \n",
              "2925                     Zimbabwe  2010   12839771.0  1.204166e+10   \n",
              "\n",
              "      gni_per_capita  \n",
              "0        1396.494155  \n",
              "1        1506.540760  \n",
              "2        1465.272340  \n",
              "3        1451.180357  \n",
              "4        1463.693601  \n",
              "...              ...  \n",
              "2921     1210.000000  \n",
              "2922     1200.000000  \n",
              "2923     1120.000000  \n",
              "2924      950.000000  \n",
              "2925      650.000000  \n",
              "\n",
              "[2926 rows x 5 columns]"
            ],
            "text/html": [
              "\n",
              "  <div id=\"df-d0b234b7-a8fd-43e5-8b3f-06138e94cb0f\">\n",
              "    <div class=\"colab-df-container\">\n",
              "      <div>\n",
              "<style scoped>\n",
              "    .dataframe tbody tr th:only-of-type {\n",
              "        vertical-align: middle;\n",
              "    }\n",
              "\n",
              "    .dataframe tbody tr th {\n",
              "        vertical-align: top;\n",
              "    }\n",
              "\n",
              "    .dataframe thead th {\n",
              "        text-align: right;\n",
              "    }\n",
              "</style>\n",
              "<table border=\"1\" class=\"dataframe\">\n",
              "  <thead>\n",
              "    <tr style=\"text-align: right;\">\n",
              "      <th></th>\n",
              "      <th>country</th>\n",
              "      <th>date</th>\n",
              "      <th>population</th>\n",
              "      <th>gdp</th>\n",
              "      <th>gni_per_capita</th>\n",
              "    </tr>\n",
              "  </thead>\n",
              "  <tbody>\n",
              "    <tr>\n",
              "      <th>0</th>\n",
              "      <td>Africa Eastern and Southern</td>\n",
              "      <td>2020</td>\n",
              "      <td>685112705.0</td>\n",
              "      <td>9.341791e+11</td>\n",
              "      <td>1396.494155</td>\n",
              "    </tr>\n",
              "    <tr>\n",
              "      <th>1</th>\n",
              "      <td>Africa Eastern and Southern</td>\n",
              "      <td>2019</td>\n",
              "      <td>667242712.0</td>\n",
              "      <td>1.009052e+12</td>\n",
              "      <td>1506.540760</td>\n",
              "    </tr>\n",
              "    <tr>\n",
              "      <th>2</th>\n",
              "      <td>Africa Eastern and Southern</td>\n",
              "      <td>2018</td>\n",
              "      <td>649756874.0</td>\n",
              "      <td>1.016697e+12</td>\n",
              "      <td>1465.272340</td>\n",
              "    </tr>\n",
              "    <tr>\n",
              "      <th>3</th>\n",
              "      <td>Africa Eastern and Southern</td>\n",
              "      <td>2017</td>\n",
              "      <td>632746296.0</td>\n",
              "      <td>1.030482e+12</td>\n",
              "      <td>1451.180357</td>\n",
              "    </tr>\n",
              "    <tr>\n",
              "      <th>4</th>\n",
              "      <td>Africa Eastern and Southern</td>\n",
              "      <td>2016</td>\n",
              "      <td>616377331.0</td>\n",
              "      <td>8.898593e+11</td>\n",
              "      <td>1463.693601</td>\n",
              "    </tr>\n",
              "    <tr>\n",
              "      <th>...</th>\n",
              "      <td>...</td>\n",
              "      <td>...</td>\n",
              "      <td>...</td>\n",
              "      <td>...</td>\n",
              "      <td>...</td>\n",
              "    </tr>\n",
              "    <tr>\n",
              "      <th>2921</th>\n",
              "      <td>Zimbabwe</td>\n",
              "      <td>2014</td>\n",
              "      <td>13855753.0</td>\n",
              "      <td>1.949552e+10</td>\n",
              "      <td>1210.000000</td>\n",
              "    </tr>\n",
              "    <tr>\n",
              "      <th>2922</th>\n",
              "      <td>Zimbabwe</td>\n",
              "      <td>2013</td>\n",
              "      <td>13555422.0</td>\n",
              "      <td>1.909102e+10</td>\n",
              "      <td>1200.000000</td>\n",
              "    </tr>\n",
              "    <tr>\n",
              "      <th>2923</th>\n",
              "      <td>Zimbabwe</td>\n",
              "      <td>2012</td>\n",
              "      <td>13265331.0</td>\n",
              "      <td>1.711485e+10</td>\n",
              "      <td>1120.000000</td>\n",
              "    </tr>\n",
              "    <tr>\n",
              "      <th>2924</th>\n",
              "      <td>Zimbabwe</td>\n",
              "      <td>2011</td>\n",
              "      <td>13025785.0</td>\n",
              "      <td>1.410192e+10</td>\n",
              "      <td>950.000000</td>\n",
              "    </tr>\n",
              "    <tr>\n",
              "      <th>2925</th>\n",
              "      <td>Zimbabwe</td>\n",
              "      <td>2010</td>\n",
              "      <td>12839771.0</td>\n",
              "      <td>1.204166e+10</td>\n",
              "      <td>650.000000</td>\n",
              "    </tr>\n",
              "  </tbody>\n",
              "</table>\n",
              "<p>2926 rows × 5 columns</p>\n",
              "</div>\n",
              "      <button class=\"colab-df-convert\" onclick=\"convertToInteractive('df-d0b234b7-a8fd-43e5-8b3f-06138e94cb0f')\"\n",
              "              title=\"Convert this dataframe to an interactive table.\"\n",
              "              style=\"display:none;\">\n",
              "        \n",
              "  <svg xmlns=\"http://www.w3.org/2000/svg\" height=\"24px\"viewBox=\"0 0 24 24\"\n",
              "       width=\"24px\">\n",
              "    <path d=\"M0 0h24v24H0V0z\" fill=\"none\"/>\n",
              "    <path d=\"M18.56 5.44l.94 2.06.94-2.06 2.06-.94-2.06-.94-.94-2.06-.94 2.06-2.06.94zm-11 1L8.5 8.5l.94-2.06 2.06-.94-2.06-.94L8.5 2.5l-.94 2.06-2.06.94zm10 10l.94 2.06.94-2.06 2.06-.94-2.06-.94-.94-2.06-.94 2.06-2.06.94z\"/><path d=\"M17.41 7.96l-1.37-1.37c-.4-.4-.92-.59-1.43-.59-.52 0-1.04.2-1.43.59L10.3 9.45l-7.72 7.72c-.78.78-.78 2.05 0 2.83L4 21.41c.39.39.9.59 1.41.59.51 0 1.02-.2 1.41-.59l7.78-7.78 2.81-2.81c.8-.78.8-2.07 0-2.86zM5.41 20L4 18.59l7.72-7.72 1.47 1.35L5.41 20z\"/>\n",
              "  </svg>\n",
              "      </button>\n",
              "      \n",
              "  <style>\n",
              "    .colab-df-container {\n",
              "      display:flex;\n",
              "      flex-wrap:wrap;\n",
              "      gap: 12px;\n",
              "    }\n",
              "\n",
              "    .colab-df-convert {\n",
              "      background-color: #E8F0FE;\n",
              "      border: none;\n",
              "      border-radius: 50%;\n",
              "      cursor: pointer;\n",
              "      display: none;\n",
              "      fill: #1967D2;\n",
              "      height: 32px;\n",
              "      padding: 0 0 0 0;\n",
              "      width: 32px;\n",
              "    }\n",
              "\n",
              "    .colab-df-convert:hover {\n",
              "      background-color: #E2EBFA;\n",
              "      box-shadow: 0px 1px 2px rgba(60, 64, 67, 0.3), 0px 1px 3px 1px rgba(60, 64, 67, 0.15);\n",
              "      fill: #174EA6;\n",
              "    }\n",
              "\n",
              "    [theme=dark] .colab-df-convert {\n",
              "      background-color: #3B4455;\n",
              "      fill: #D2E3FC;\n",
              "    }\n",
              "\n",
              "    [theme=dark] .colab-df-convert:hover {\n",
              "      background-color: #434B5C;\n",
              "      box-shadow: 0px 1px 3px 1px rgba(0, 0, 0, 0.15);\n",
              "      filter: drop-shadow(0px 1px 2px rgba(0, 0, 0, 0.3));\n",
              "      fill: #FFFFFF;\n",
              "    }\n",
              "  </style>\n",
              "\n",
              "      <script>\n",
              "        const buttonEl =\n",
              "          document.querySelector('#df-d0b234b7-a8fd-43e5-8b3f-06138e94cb0f button.colab-df-convert');\n",
              "        buttonEl.style.display =\n",
              "          google.colab.kernel.accessAllowed ? 'block' : 'none';\n",
              "\n",
              "        async function convertToInteractive(key) {\n",
              "          const element = document.querySelector('#df-d0b234b7-a8fd-43e5-8b3f-06138e94cb0f');\n",
              "          const dataTable =\n",
              "            await google.colab.kernel.invokeFunction('convertToInteractive',\n",
              "                                                     [key], {});\n",
              "          if (!dataTable) return;\n",
              "\n",
              "          const docLinkHtml = 'Like what you see? Visit the ' +\n",
              "            '<a target=\"_blank\" href=https://colab.research.google.com/notebooks/data_table.ipynb>data table notebook</a>'\n",
              "            + ' to learn more about interactive tables.';\n",
              "          element.innerHTML = '';\n",
              "          dataTable['output_type'] = 'display_data';\n",
              "          await google.colab.output.renderOutput(dataTable, element);\n",
              "          const docLink = document.createElement('div');\n",
              "          docLink.innerHTML = docLinkHtml;\n",
              "          element.appendChild(docLink);\n",
              "        }\n",
              "      </script>\n",
              "    </div>\n",
              "  </div>\n",
              "  "
            ]
          },
          "metadata": {},
          "execution_count": 5
        }
      ]
    },
    {
      "cell_type": "code",
      "source": [
        "# Seleccionar los datos para un país específico (por ejemplo, México)\n",
        "#df = data2[data2['country'] == 'Zimbabwe']\n",
        "\n",
        "# Crear el modelo SVAR\n",
        "#model = sm.tsa.VAR(df)\n",
        "\n",
        "# Ajustar el modelo\n",
        "#results = model.fit(maxlags=2, ic='aic')\n",
        "\n",
        "# Ver los resultados\n",
        "#results.summary()\n"
      ],
      "metadata": {
        "id": "ZllmRR4BJ2Fo"
      },
      "execution_count": null,
      "outputs": []
    },
    {
      "cell_type": "code",
      "source": [
        "print(df.dtypes)"
      ],
      "metadata": {
        "colab": {
          "base_uri": "https://localhost:8080/"
        },
        "id": "iP1vqfRoKR3v",
        "outputId": "1260c629-0caf-42ee-dc5e-cfa8cee1ebbc"
      },
      "execution_count": null,
      "outputs": [
        {
          "output_type": "stream",
          "name": "stdout",
          "text": [
            "country            object\n",
            "date               object\n",
            "population        float64\n",
            "gdp               float64\n",
            "gni_per_capita    float64\n",
            "dtype: object\n"
          ]
        }
      ]
    },
    {
      "cell_type": "code",
      "source": [
        "df[\"country\"]"
      ],
      "metadata": {
        "colab": {
          "base_uri": "https://localhost:8080/"
        },
        "id": "KV7BNABUNWZz",
        "outputId": "9e7edb13-3137-4170-f99c-dc5599409843"
      },
      "execution_count": null,
      "outputs": [
        {
          "output_type": "execute_result",
          "data": {
            "text/plain": [
              "2915    Zimbabwe\n",
              "2916    Zimbabwe\n",
              "2917    Zimbabwe\n",
              "2918    Zimbabwe\n",
              "2919    Zimbabwe\n",
              "2920    Zimbabwe\n",
              "2921    Zimbabwe\n",
              "2922    Zimbabwe\n",
              "2923    Zimbabwe\n",
              "2924    Zimbabwe\n",
              "2925    Zimbabwe\n",
              "Name: country, dtype: object"
            ]
          },
          "metadata": {},
          "execution_count": 19
        }
      ]
    }
  ]
}